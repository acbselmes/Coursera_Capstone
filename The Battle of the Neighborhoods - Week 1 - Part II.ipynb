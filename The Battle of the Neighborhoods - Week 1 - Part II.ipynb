{
    "cells": [
        {
            "cell_type": "markdown",
            "metadata": {
                "collapsed": true
            },
            "source": "## Capstone Project - The Battle of Neighborhoods - Week 1"
        },
        {
            "cell_type": "markdown",
            "metadata": {},
            "source": "### Data:"
        },
        {
            "cell_type": "markdown",
            "metadata": {},
            "source": "In the search for the location for the restaurant, I am going to be analysing data from the city of New Orleans, USA.\nFor that i am going to use data from the following wikipedia page: https://en.wikipedia.org/wiki/Neighborhoods_in_New_Orleans\n\nBesides of scraping the data from the website, I will be organizing it and curate the data into a dataframe so that it can be worked properlly. I will be using also the Foursquare API to explore the neighborhood.\nWill leverage the data to determine the best place."
        }
    ],
    "metadata": {
        "kernelspec": {
            "display_name": "Python 3.6",
            "language": "python",
            "name": "python3"
        },
        "language_info": {
            "codemirror_mode": {
                "name": "ipython",
                "version": 3
            },
            "file_extension": ".py",
            "mimetype": "text/x-python",
            "name": "python",
            "nbconvert_exporter": "python",
            "pygments_lexer": "ipython3",
            "version": "3.6.9"
        }
    },
    "nbformat": 4,
    "nbformat_minor": 1
}