{
    "cells": [
        {
            "cell_type": "markdown",
            "metadata": {
                "collapsed": true
            },
            "source": "## Capstone Project - The Battle of Neighborhoods - Week 1"
        },
        {
            "cell_type": "markdown",
            "metadata": {},
            "source": "#### Introduction and problem description:"
        },
        {
            "cell_type": "markdown",
            "metadata": {},
            "source": "Mia loves to cook and her friends say that she makes \"the greatest and best\" sandwiches they ever had.\nShe is happy to constantly ear about it, that she decided to try to open a small place. She lives in New Orleans, USA and she is looking for a good location and cheap but more important, a place where she can be sucessfull.\nThere are lots of factors that are in place that could tank really fast the business if she makes the wrong choices, so she decided to talk to some friends and asked for our help.\n\nOur goal is to look at data and help her to decide for the best location, based on some criteria that she established as important."
        }
    ],
    "metadata": {
        "kernelspec": {
            "display_name": "Python 3.6",
            "language": "python",
            "name": "python3"
        },
        "language_info": {
            "codemirror_mode": {
                "name": "ipython",
                "version": 3
            },
            "file_extension": ".py",
            "mimetype": "text/x-python",
            "name": "python",
            "nbconvert_exporter": "python",
            "pygments_lexer": "ipython3",
            "version": "3.6.9"
        }
    },
    "nbformat": 4,
    "nbformat_minor": 1
}